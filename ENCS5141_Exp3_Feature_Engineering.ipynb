{
  "nbformat": 4,
  "nbformat_minor": 0,
  "metadata": {
    "colab": {
      "provenance": [],
      "private_outputs": true,
      "authorship_tag": "ABX9TyOIl/rl8QTq4JC2iUMt7yK4",
      "include_colab_link": true
    },
    "kernelspec": {
      "name": "python3",
      "display_name": "Python 3"
    },
    "language_info": {
      "name": "python"
    }
  },
  "cells": [
    {
      "cell_type": "markdown",
      "metadata": {
        "id": "view-in-github",
        "colab_type": "text"
      },
      "source": [
        "<a href=\"https://colab.research.google.com/github/mkjubran/ENCS5141-INTELLIGENT-SYSTEMS-LAB/blob/main/ENCS5141_Exp3_Feature_Engineering.ipynb\" target=\"_parent\"><img src=\"https://colab.research.google.com/assets/colab-badge.svg\" alt=\"Open In Colab\"/></a>"
      ]
    },
    {
      "cell_type": "markdown",
      "source": [
        "## EXPLORATORY DATA ANALYSIS – FEATURE SELECTION AND FEATURE ENGINEERING"
      ],
      "metadata": {
        "id": "mkRHIvM06yZJ"
      }
    },
    {
      "cell_type": "markdown",
      "source": [
        "In this notebook, we will demonstrate Feature Selection and Feature Engineering as part of Exploratory Data Analysis (EDA). We will work on a modified version of the cardiovascular dataset from Kaggle (https://www.kaggle.com/code/sulianova/eda-cardiovascular-data/data). The dataset has been cleaned as presented in another notebook (https://github.com/mkjubran/Fundamentals-of-AI-and-Machine-Learning/blob/main/EXPLORATORY_DATA_ANALYSIS_%E2%80%93_DATA_CLEANING.ipynb). \n",
        "\n"
      ],
      "metadata": {
        "id": "pk26CGoOne-d"
      }
    },
    {
      "cell_type": "markdown",
      "source": [
        "# Import Libraries"
      ],
      "metadata": {
        "id": "PvkgpK7foGty"
      }
    },
    {
      "cell_type": "markdown",
      "source": [
        "First, we need to import some libraries that will be used during data cleaning."
      ],
      "metadata": {
        "id": "6gP9SPZVoJdO"
      }
    },
    {
      "cell_type": "code",
      "source": [
        "import numpy as np\n",
        "import pandas as pd\n",
        "from matplotlib import rcParams\n",
        "import matplotlib.pyplot as plt\n",
        "import seaborn as sns"
      ],
      "metadata": {
        "id": "YHGa-ZbnoMH8"
      },
      "execution_count": null,
      "outputs": []
    },
    {
      "cell_type": "markdown",
      "source": [
        "# Data Preparation"
      ],
      "metadata": {
        "id": "l4NtTL8ooPPS"
      }
    },
    {
      "cell_type": "markdown",
      "source": [
        "**Clone the dataset Repository**\n",
        "\n",
        "The modified dataset can be cloned from the GitHub repository https://github.com/mkjubran/AIData.git as below"
      ],
      "metadata": {
        "id": "rCTLh1CboS1_"
      }
    },
    {
      "cell_type": "code",
      "source": [
        "!rm -rf ./AIData\n",
        "!git clone https://github.com/mkjubran/AIData.git"
      ],
      "metadata": {
        "id": "YfpV20EFoSYK"
      },
      "execution_count": null,
      "outputs": []
    },
    {
      "cell_type": "markdown",
      "source": [
        "**Read the dataset**\n",
        "\n",
        "The data is stored in the cardio_train_cleaned.csv file. Read the input data into a dataframe using the Pandas library (https://pandas.pydata.org/) to read the data."
      ],
      "metadata": {
        "id": "CstL02BuoeDU"
      }
    },
    {
      "cell_type": "code",
      "source": [
        "df = pd.read_csv(\"/content/AIData/cardio_train_cleaned.csv\",sep=\";\")\n",
        "df.head()"
      ],
      "metadata": {
        "id": "TvSJ7sy1oiym"
      },
      "execution_count": null,
      "outputs": []
    },
    {
      "cell_type": "markdown",
      "source": [
        "**Display Data Info and Check NAN**\n",
        "\n",
        "To display the content of the data and type of features use the info() method"
      ],
      "metadata": {
        "id": "ogikRhbOp-vu"
      }
    },
    {
      "cell_type": "code",
      "source": [
        "df.info()"
      ],
      "metadata": {
        "id": "d1_1vef1qFNG"
      },
      "execution_count": null,
      "outputs": []
    },
    {
      "cell_type": "markdown",
      "source": [
        "Here the dataframe consists of 69917 rows with 12 variables (features). Ten features are numerical and two features are objects (gender, smoke). We notice that the number of non-null values of all features is equal to 69917 which means that none of the features has missing values. We can also use the isnull() method to check for any missing data."
      ],
      "metadata": {
        "id": "FshXANQOqNBj"
      }
    },
    {
      "cell_type": "code",
      "source": [
        "df.isnull().sum()"
      ],
      "metadata": {
        "id": "oeNs1tB5qQH3"
      },
      "execution_count": null,
      "outputs": []
    },
    {
      "cell_type": "markdown",
      "source": [
        "As expected there are no NaN values as the data has been cleaned."
      ],
      "metadata": {
        "id": "OiWO5UnUqYRf"
      }
    },
    {
      "cell_type": "markdown",
      "source": [
        "# Feature Selection and Feature Engineering"
      ],
      "metadata": {
        "id": "f6TfciaEq1IW"
      }
    },
    {
      "cell_type": "markdown",
      "source": [
        "After we identified the type of each feature, let us have a close look at the statistical properties of the numeric features"
      ],
      "metadata": {
        "id": "9fPIPI2Wqz0G"
      }
    },
    {
      "cell_type": "code",
      "source": [
        "df.describe()"
      ],
      "metadata": {
        "id": "DPxkkC9jrzen"
      },
      "execution_count": null,
      "outputs": []
    },
    {
      "cell_type": "markdown",
      "source": [
        "**Is the dataset balanced**\n",
        "\n",
        "The target feature \"cardio\" equals 1, when a patient has cardiovascular disease, and it's 0 if a patient is healthy. Let us get the target variable distribution."
      ],
      "metadata": {
        "id": "D2I8mAyaw4w2"
      }
    },
    {
      "cell_type": "code",
      "source": [
        "No_cardio_0 = df[df.cardio==0].shape[0] ## number of records with no cardiovascular disease\n",
        "No_cardio_1 = df[df.cardio==1].shape[0] ## number of records with cardiovascular disease\n",
        "print('cardio_0 = {}, cardio_1 = {} , Percentage of cardio_1 = {} %'.format(No_cardio_0,No_cardio_1,(No_cardio_1/(No_cardio_0+No_cardio_1))*100))"
      ],
      "metadata": {
        "id": "wpRKp1HyFrnK"
      },
      "execution_count": null,
      "outputs": []
    },
    {
      "cell_type": "markdown",
      "source": [
        "The dataset is said to be balanced as the distribution of the target feature is almost uniform. This can also be observed from the bar plot below."
      ],
      "metadata": {
        "id": "JriH84VkGqfD"
      }
    },
    {
      "cell_type": "code",
      "source": [
        "rcParams['figure.figsize'] = 10, 6\n",
        "df['cardio'].value_counts().plot(kind='bar').set_title('Target class : Cardio')"
      ],
      "metadata": {
        "id": "rjwYgpSPFLsi"
      },
      "execution_count": null,
      "outputs": []
    },
    {
      "cell_type": "markdown",
      "source": [
        "**Examine 'age' and 'age_year' features**\n",
        "\n",
        "Let us now examine the correlation between the features and the target variable and check how are they spread among this target feature. Let us start with the 'age_years' feature."
      ],
      "metadata": {
        "id": "Uy81Y1ZGFJtD"
      }
    },
    {
      "cell_type": "code",
      "source": [
        "rcParams['figure.figsize'] = 10, 6\n",
        "pd.crosstab(df.age_years,df.cardio).plot(kind='bar', ylabel='count', xlabel='years')"
      ],
      "metadata": {
        "id": "KACR7zr-y7wp"
      },
      "execution_count": null,
      "outputs": []
    },
    {
      "cell_type": "markdown",
      "source": [
        "It can be observed that people aged 55 and above are more exposed to cardiovascular disease. So the age presented in the 'age' or 'age_years' is an important feature for the prediction of cardiovascular disease and hence will be selected for ML. This is called feature selection."
      ],
      "metadata": {
        "id": "ah9XOIj5-RG-"
      }
    },
    {
      "cell_type": "markdown",
      "source": [
        "**Examine 'height' and 'weight' features**\n",
        "\n",
        "Let us check the 'height' and 'weight' features as well by plotting the distribution of these features according to the target feature"
      ],
      "metadata": {
        "id": "R4wRTW8b0j-B"
      }
    },
    {
      "cell_type": "code",
      "source": [
        "rcParams['figure.figsize'] = 12, 6\n",
        "pd.crosstab(df.height,df.cardio).plot(kind='bar', ylabel='count', xlabel='height (cm)', title='height')"
      ],
      "metadata": {
        "id": "wTWfKhW3_M3y"
      },
      "execution_count": null,
      "outputs": []
    },
    {
      "cell_type": "code",
      "source": [
        "rcParams['figure.figsize'] = 20, 6\n",
        "pd.crosstab(df.weight.round(),df.cardio).plot(kind='bar', ylabel='count', xlabel='weight (kg)', title='weight')"
      ],
      "metadata": {
        "id": "5NtTE1rSBwt9"
      },
      "execution_count": null,
      "outputs": []
    },
    {
      "cell_type": "markdown",
      "source": [
        "Although not clear, we could observe from the height chart that records with low 'height' values (short persons) are more exposed to cardiovascular disease as compared to the high 'height' feature (long persons). It is more clear in the weight chart, records with low 'weight' values (thin persons) are less exposed to cardiovascular disease as compared to high 'weight' features (fat persons). We could try to create a new feature that is a function of 'height' and 'weight' that is called the Body Mass Index (BMI) and check the distribution of this feature with the target feature.\n",
        "\n",
        "The formula is BMI = kg/m2 where kg is a person's weight in kilograms and m2 is their height in meters squared."
      ],
      "metadata": {
        "id": "-CaUe-alxDWP"
      }
    },
    {
      "cell_type": "code",
      "source": [
        "df['BMI'] = df['weight']/((df['height']/100)**2)\n",
        "rcParams['figure.figsize'] = 20, 6\n",
        "pd.crosstab(df.BMI.round(),df.cardio).plot(kind='bar', ylabel='count', xlabel='BMI', title='BMI')"
      ],
      "metadata": {
        "id": "dXzG_5tBwp0Z"
      },
      "execution_count": null,
      "outputs": []
    },
    {
      "cell_type": "markdown",
      "source": [
        "Now we can observe clearly that records with low BMI values are less exposed to cardiovascular disease as compared to high BMI values. So we could use the BMI feature instead of the 'hight' and 'weight' features. This is called feature engineering. "
      ],
      "metadata": {
        "id": "_x2RUmB6zSZf"
      }
    },
    {
      "cell_type": "markdown",
      "source": [
        "**Examine the 'ap_hi' and 'ap_lo' features**\n",
        "\n",
        "Let us examine the 'ap_hi' and 'ap_lo' features and their distribution with the target feature"
      ],
      "metadata": {
        "id": "cWrcioR50wyG"
      }
    },
    {
      "cell_type": "code",
      "source": [
        "rcParams['figure.figsize'] = 12, 6\n",
        "pd.crosstab((df.ap_hi/5).round()*5,df.cardio).plot(kind='bar', ylabel='count', xlabel='ap_hi', title='ap_hi')"
      ],
      "metadata": {
        "id": "wwDqPXjI1Nr-"
      },
      "execution_count": null,
      "outputs": []
    },
    {
      "cell_type": "code",
      "source": [
        "rcParams['figure.figsize'] = 12, 6\n",
        "pd.crosstab((df.ap_lo/5).round()*5,df.cardio).plot(kind='bar', ylabel='count', xlabel='ap_lo', title='ap_lo')"
      ],
      "metadata": {
        "id": "fS3-DMqORA1Y"
      },
      "execution_count": null,
      "outputs": []
    },
    {
      "cell_type": "markdown",
      "source": [
        "We observe clearly that records with low 'ap_lo' and 'ap_hi' values are less exposed to cardiovascular disease as compared to high 'ap_lo' and 'ap_hi' values. So we should use the 'ap_lo' and 'ap_hi' features for the classification of cardiovascular disease."
      ],
      "metadata": {
        "id": "K2liBQVBQzql"
      }
    },
    {
      "cell_type": "markdown",
      "source": [
        "**Examine the 'cholesterol' feature**"
      ],
      "metadata": {
        "id": "w5hyux36Rmh7"
      }
    },
    {
      "cell_type": "code",
      "source": [
        "rcParams['figure.figsize'] = 8, 4\n",
        "pd.crosstab(df.cholesterol.round(3),df.cardio).plot(kind='bar', ylabel='count', xlabel='cholesterol')"
      ],
      "metadata": {
        "id": "dnEtX0ICSJkr"
      },
      "execution_count": null,
      "outputs": []
    },
    {
      "cell_type": "markdown",
      "source": [
        "We observe clearly that records with low cholesterol values are less exposed to cardiovascular disease as compared to high cholesterol values. So the 'cholesterol' feature is important for the prediction of cardiovascular disease."
      ],
      "metadata": {
        "id": "xKDrPaP88JMg"
      }
    },
    {
      "cell_type": "markdown",
      "source": [
        "**Examine the 'gluc' feature**"
      ],
      "metadata": {
        "id": "iyhjGtcs6w-w"
      }
    },
    {
      "cell_type": "code",
      "source": [
        "rcParams['figure.figsize'] = 8, 4\n",
        "pd.crosstab(df.gluc,df.cardio).plot(kind='bar', ylabel='count', xlabel='gluc')"
      ],
      "metadata": {
        "id": "iOJp5B037Ir4"
      },
      "execution_count": null,
      "outputs": []
    },
    {
      "cell_type": "markdown",
      "source": [
        "Similar to the 'cholesterol' feature, we observe from the chart clearly that the 'gluc' feature is important for the prediction of cardiovascular disease."
      ],
      "metadata": {
        "id": "AN4zS8MS8hXr"
      }
    },
    {
      "cell_type": "markdown",
      "source": [
        "**Examine the 'alco' feature**"
      ],
      "metadata": {
        "id": "OrSYpkdh60GW"
      }
    },
    {
      "cell_type": "markdown",
      "source": [
        "Let us examine the 'alco' feature"
      ],
      "metadata": {
        "id": "kFufIITMF3wc"
      }
    },
    {
      "cell_type": "code",
      "source": [
        "rcParams['figure.figsize'] = 8, 4\n",
        "pd.crosstab(df.alco,df.cardio).plot(kind='bar', ylabel='count', xlabel='alco')"
      ],
      "metadata": {
        "id": "HGXq_3dO7Kpe"
      },
      "execution_count": null,
      "outputs": []
    },
    {
      "cell_type": "markdown",
      "source": [
        "The values of the bars in the chart are very close. So let us get numeric results (percentages).\n",
        "\n",
        "For non-alcoholic persons, the distribution of the target feature is as follows"
      ],
      "metadata": {
        "id": "usGg4UD99UBC"
      }
    },
    {
      "cell_type": "code",
      "source": [
        "pd.crosstab(df.alco,df.cardio).iloc[0]/pd.crosstab(df.alco,df.cardio).iloc[0].sum()"
      ],
      "metadata": {
        "id": "0AEcxLxmBvQa"
      },
      "execution_count": null,
      "outputs": []
    },
    {
      "cell_type": "markdown",
      "source": [
        "For alcoholic persons, the distribution of the target feature is as follows"
      ],
      "metadata": {
        "id": "15BRjUU0CgDL"
      }
    },
    {
      "cell_type": "code",
      "source": [
        "pd.crosstab(df.alco,df.cardio).iloc[1]/pd.crosstab(df.alco,df.cardio).iloc[1].sum()"
      ],
      "metadata": {
        "id": "pJysDlIoCkme"
      },
      "execution_count": null,
      "outputs": []
    },
    {
      "cell_type": "markdown",
      "source": [
        "The distribution is very similar for non-alcoholic persons. However, for alcoholic persons, the probability (percentage) of being exposed to cardiovascular disease is 45.8% compared to 54.2% of not being exposed to cardiovascular disease."
      ],
      "metadata": {
        "id": "q_Pkk9M8CtAT"
      }
    },
    {
      "cell_type": "markdown",
      "source": [
        "**Examine the 'active' feature**"
      ],
      "metadata": {
        "id": "OKXZoWbr63bZ"
      }
    },
    {
      "cell_type": "markdown",
      "source": [
        "Let us examine the 'active' feature"
      ],
      "metadata": {
        "id": "Cl-lhsgcFyyc"
      }
    },
    {
      "cell_type": "code",
      "source": [
        "rcParams['figure.figsize'] = 8, 4\n",
        "pd.crosstab(df.active,df.cardio).plot(kind='bar', ylabel='count', xlabel='active')"
      ],
      "metadata": {
        "id": "Y9jZz3Yg7Lf_"
      },
      "execution_count": null,
      "outputs": []
    },
    {
      "cell_type": "markdown",
      "source": [
        "The chart shows that the 'active' feature is important as low 'active' values imply people are more exposed to cardiovascular diseases compared to high 'active' values. So we will keep this feature for the prediction of cardiovascular disease."
      ],
      "metadata": {
        "id": "5SXQo09_DL2V"
      }
    },
    {
      "cell_type": "markdown",
      "source": [
        "**Examine the 'gender' feature**"
      ],
      "metadata": {
        "id": "ld8UDv0iFkzz"
      }
    },
    {
      "cell_type": "markdown",
      "source": [
        "Let us examine the 'gender' feature"
      ],
      "metadata": {
        "id": "e0y4ea1TF7SA"
      }
    },
    {
      "cell_type": "code",
      "source": [
        "pd.crosstab(df.gender,df.cardio).plot(kind='bar', ylabel='count', xlabel='gender')"
      ],
      "metadata": {
        "id": "v9zMoAQjD5sq"
      },
      "execution_count": null,
      "outputs": []
    },
    {
      "cell_type": "markdown",
      "source": [
        "The values of the bars in the chart are very close. So let us get numeric results (percentages)."
      ],
      "metadata": {
        "id": "BhSFun1RHAsE"
      }
    },
    {
      "cell_type": "code",
      "source": [
        "pd.crosstab(df.cardio,df.gender)/pd.crosstab(df.cardio,df.gender).sum()"
      ],
      "metadata": {
        "id": "5OQceHRjGM7B"
      },
      "execution_count": null,
      "outputs": []
    },
    {
      "cell_type": "markdown",
      "source": [
        "Also, the crosstab numeric values are very close. So the 'gender' feature could be ignored during the training of the model for the prediction of cardiovascular disease."
      ],
      "metadata": {
        "id": "2D16wWwIHSHu"
      }
    },
    {
      "cell_type": "markdown",
      "source": [
        "**Examine the 'smoke' feature**"
      ],
      "metadata": {
        "id": "qGUSeXDfFnbG"
      }
    },
    {
      "cell_type": "markdown",
      "source": [
        "Let us examine the 'smoke' feature"
      ],
      "metadata": {
        "id": "80bvcA-_F9pP"
      }
    },
    {
      "cell_type": "code",
      "source": [
        "pd.crosstab(df.smoke,df.cardio).plot(kind='bar', ylabel='count', xlabel='smoke')"
      ],
      "metadata": {
        "id": "4dDrv9U0Fctw"
      },
      "execution_count": null,
      "outputs": []
    },
    {
      "cell_type": "markdown",
      "source": [
        "The values of the bars in the chart are very close. So let us get numeric results (percentages)."
      ],
      "metadata": {
        "id": "70Vlhu8oHTlS"
      }
    },
    {
      "cell_type": "code",
      "source": [
        "pd.crosstab(df.cardio,df.smoke)/pd.crosstab(df.cardio,df.smoke).sum()"
      ],
      "metadata": {
        "id": "ygQrkbyHHUZ1"
      },
      "execution_count": null,
      "outputs": []
    },
    {
      "cell_type": "markdown",
      "source": [
        "The distribution is very similar for non-smokers. However, for smokers, the probability (percentage) of being exposed to cardiovascular disease is 45.8% compared to 54.2% of not being exposed to cardiovascular disease. This is very similar to the 'alco' feature."
      ],
      "metadata": {
        "id": "ue42nQfHHj97"
      }
    },
    {
      "cell_type": "markdown",
      "source": [
        "**Conclusion**\n",
        "\n",
        "Based on the analysis above, we will drop the 'height', 'weight', and 'gender' features. We will also drop the 'age_years' feature because we have another feature 'age' that is related to this feature."
      ],
      "metadata": {
        "id": "9aLzhYztJsqx"
      }
    },
    {
      "cell_type": "code",
      "source": [
        "df.drop(['height', 'weight', 'gender','age_years'], axis=1)"
      ],
      "metadata": {
        "id": "YhBJVulmJ00H"
      },
      "execution_count": null,
      "outputs": []
    },
    {
      "cell_type": "markdown",
      "source": [
        "# Save Data"
      ],
      "metadata": {
        "id": "7eceMiGEKHx7"
      }
    },
    {
      "cell_type": "markdown",
      "source": [
        "Now, we will save the clean dataset into a CSV file to be used in the next session."
      ],
      "metadata": {
        "id": "3F37M-l-KKE5"
      }
    },
    {
      "cell_type": "code",
      "source": [
        "df.to_csv(\"/content/AIData/cardio_EDA.csv\",sep=\";\",index=False)"
      ],
      "metadata": {
        "id": "CiOrEZXKKUsa"
      },
      "execution_count": null,
      "outputs": []
    },
    {
      "cell_type": "markdown",
      "source": [
        "Check the '/content/AIData/' folder for the 'cardio_EDA.csv' file and download it for future usage."
      ],
      "metadata": {
        "id": "u-lA65cfKawM"
      }
    }
  ]
}